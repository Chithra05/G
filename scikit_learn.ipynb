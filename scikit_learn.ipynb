{
  "nbformat": 4,
  "nbformat_minor": 0,
  "metadata": {
    "colab": {
      "name": "scikit learn.ipynb",
      "provenance": [],
      "collapsed_sections": [],
      "authorship_tag": "ABX9TyNhs23rsp/bkXJZ9yZw0HWY",
      "include_colab_link": true
    },
    "kernelspec": {
      "name": "python3",
      "display_name": "Python 3"
    },
    "language_info": {
      "name": "python"
    }
  },
  "cells": [
    {
      "cell_type": "markdown",
      "metadata": {
        "id": "view-in-github",
        "colab_type": "text"
      },
      "source": [
        "<a href=\"https://colab.research.google.com/github/Chithra05/G/blob/main/scikit_learn.ipynb\" target=\"_parent\"><img src=\"https://colab.research.google.com/assets/colab-badge.svg\" alt=\"Open In Colab\"/></a>"
      ]
    },
    {
      "cell_type": "code",
      "execution_count": null,
      "metadata": {
        "colab": {
          "base_uri": "https://localhost:8080/"
        },
        "id": "IdaPYvv45OwA",
        "outputId": "b36ca3d6-c4ef-4493-f712-26392a0b437a"
      },
      "outputs": [
        {
          "output_type": "stream",
          "name": "stdout",
          "text": [
            "Requirement already satisfied: sklearn in /usr/local/lib/python3.7/dist-packages (0.0)\n",
            "Requirement already satisfied: scikit-learn in /usr/local/lib/python3.7/dist-packages (from sklearn) (1.0.2)\n",
            "Requirement already satisfied: numpy>=1.14.6 in /usr/local/lib/python3.7/dist-packages (from scikit-learn->sklearn) (1.19.5)\n",
            "Requirement already satisfied: threadpoolctl>=2.0.0 in /usr/local/lib/python3.7/dist-packages (from scikit-learn->sklearn) (3.0.0)\n",
            "Requirement already satisfied: scipy>=1.1.0 in /usr/local/lib/python3.7/dist-packages (from scikit-learn->sklearn) (1.4.1)\n",
            "Requirement already satisfied: joblib>=0.11 in /usr/local/lib/python3.7/dist-packages (from scikit-learn->sklearn) (1.1.0)\n"
          ]
        }
      ],
      "source": [
        "pip install sklearn"
      ]
    },
    {
      "cell_type": "code",
      "source": [
        "from sklearn import datasets"
      ],
      "metadata": {
        "id": "iFN9dznG5SDT"
      },
      "execution_count": null,
      "outputs": []
    },
    {
      "cell_type": "code",
      "source": [
        "digits=datasets.load_digits()\n",
        "print(digits.data)"
      ],
      "metadata": {
        "colab": {
          "base_uri": "https://localhost:8080/"
        },
        "id": "bNifs8di5kAf",
        "outputId": "3125e877-0fb3-4c6f-9c88-61882e58e430"
      },
      "execution_count": null,
      "outputs": [
        {
          "output_type": "stream",
          "name": "stdout",
          "text": [
            "[[ 0.  0.  5. ...  0.  0.  0.]\n",
            " [ 0.  0.  0. ... 10.  0.  0.]\n",
            " [ 0.  0.  0. ... 16.  9.  0.]\n",
            " ...\n",
            " [ 0.  0.  1. ...  6.  0.  0.]\n",
            " [ 0.  0.  2. ... 12.  0.  0.]\n",
            " [ 0.  0. 10. ... 12.  1.  0.]]\n"
          ]
        }
      ]
    },
    {
      "cell_type": "code",
      "source": [
        "from sklearn.decomposition import PCA"
      ],
      "metadata": {
        "id": "n3V_6gGy5dva"
      },
      "execution_count": null,
      "outputs": []
    },
    {
      "cell_type": "code",
      "source": [
        "random_pca=PCA(n_components=2,svd_solver='randomized')\n",
        "\n"
      ],
      "metadata": {
        "id": "v2hwxRNP59S5"
      },
      "execution_count": null,
      "outputs": []
    },
    {
      "cell_type": "code",
      "source": [
        "rpca_model=random_pca.fit_transform(digits.data)\n",
        "pca=PCA(n_components=2)\n",
        "pca_model=pca.fit_transform(digits.data)\n",
        "print(rpca_model)\n",
        "print(pca_model)"
      ],
      "metadata": {
        "colab": {
          "base_uri": "https://localhost:8080/"
        },
        "id": "s9zlNV7Y7EtP",
        "outputId": "d3dc584d-5ff7-40d0-be34-0633e2502fd0"
      },
      "execution_count": null,
      "outputs": [
        {
          "output_type": "stream",
          "name": "stdout",
          "text": [
            "[[ -1.25946672  21.27487862]\n",
            " [  7.95760801 -20.76872153]\n",
            " [  6.99192549  -9.95596764]\n",
            " ...\n",
            " [ 10.80128436  -6.96024599]\n",
            " [ -4.87210029  12.42394893]\n",
            " [ -0.34438632   6.36557393]]\n",
            "[[ -1.25946294  21.27488399]\n",
            " [  7.95761688 -20.76870754]\n",
            " [  6.99191766  -9.95598124]\n",
            " ...\n",
            " [ 10.80128285  -6.96024909]\n",
            " [ -4.87210164  12.42395748]\n",
            " [ -0.34439685   6.3655584 ]]\n"
          ]
        }
      ]
    },
    {
      "cell_type": "code",
      "source": [
        "from sklearn.preprocessing import LabelBinarizer\n",
        "from sklearn.svm import SVC\n",
        "from sklearn.multiclass import OneVsRestClassifier"
      ],
      "metadata": {
        "id": "yX5T3_Xe7w5I"
      },
      "execution_count": null,
      "outputs": []
    },
    {
      "cell_type": "code",
      "source": [
        "data=[[0,1],[1,2],[2,3],[3,4]]\n",
        "label=[9,8,2,7]\n",
        "label=LabelBinarizer().fit_transform(label)\n",
        "svc_classifier=OneVsRestClassifier(estimator=SVC(gamma='scale',random_state=0))\n",
        "print(svc_classifier.fit(data,label).predict(data))"
      ],
      "metadata": {
        "colab": {
          "base_uri": "https://localhost:8080/"
        },
        "id": "2e4QfVC58YDc",
        "outputId": "8a4ccce6-c93d-4898-c5b3-b0d9a01ac749"
      },
      "execution_count": null,
      "outputs": [
        {
          "output_type": "stream",
          "name": "stdout",
          "text": [
            "[[0 0 0 0]\n",
            " [0 0 0 0]\n",
            " [0 0 0 0]\n",
            " [0 0 0 0]]\n"
          ]
        }
      ]
    },
    {
      "cell_type": "code",
      "source": [
        "from sklearn import preprocessing"
      ],
      "metadata": {
        "id": "dcBJEhDF9Q8w"
      },
      "execution_count": null,
      "outputs": []
    },
    {
      "cell_type": "code",
      "source": [
        "data=['apple','mango','banana','chickoo','jackfruit']\n",
        "labels=['T','F','F','T','T']\n",
        "encoder_label=preprocessing.LabelEncoder()\n",
        "data_encoded=encoder_label.fit_transform(data)\n",
        "labels_encoded=encoder_label.fit_transform(labels)\n",
        "print(data_encoded)\n",
        "print(labels_encoded)"
      ],
      "metadata": {
        "colab": {
          "base_uri": "https://localhost:8080/"
        },
        "id": "PVEpPUkE_IZJ",
        "outputId": "eb422dfd-5608-4a94-b942-d35d7c53179e"
      },
      "execution_count": null,
      "outputs": [
        {
          "output_type": "stream",
          "name": "stdout",
          "text": [
            "[0 4 1 2 3]\n",
            "[1 0 0 1 1]\n"
          ]
        }
      ]
    },
    {
      "cell_type": "code",
      "source": [
        ""
      ],
      "metadata": {
        "id": "GsIvPyLgAKAc"
      },
      "execution_count": null,
      "outputs": []
    }
  ]
}